{
 "cells": [
  {
   "cell_type": "code",
   "execution_count": 1,
   "metadata": {},
   "outputs": [
    {
     "name": "stdout",
     "output_type": "stream",
     "text": [
      "Custom U:\n",
      "[[ 0.32717864  0.93556421 -0.13294265]\n",
      " [ 0.50256733 -0.29141461 -0.81394324]\n",
      " [ 0.8002376  -0.19949221  0.56552864]]\n",
      "\n",
      "NumPy U:\n",
      "[[-0.32717864  0.93556421 -0.13294265]\n",
      " [-0.50256733 -0.29141461 -0.81394324]\n",
      " [-0.8002376  -0.19949221  0.56552864]]\n",
      "\n",
      "Custom Vt\n",
      "[[ 0.5317045   0.55017589  0.64389193]\n",
      " [ 0.83522779 -0.46657511 -0.29103642]\n",
      " [ 0.14030273  0.69254181 -0.70760228]]\n",
      "\n",
      "NumPy Vt\n",
      "[[-0.5317045  -0.55017589 -0.64389193]\n",
      " [ 0.83522779 -0.46657511 -0.29103642]\n",
      " [ 0.14030273  0.69254181 -0.70760228]]\n",
      "\n",
      "Custom S (Sigma):\n",
      "[[17.39279188  0.          0.        ]\n",
      " [ 0.          2.53310192  0.        ]\n",
      " [ 0.          0.          0.27237001]]\n",
      "\n",
      "NumPy S (Sigma):\n",
      "[17.39279188  2.53310192  0.27237001]\n",
      "\n",
      "Custom Reconstructed Matrix (U @ S @ Vt):\n",
      "[[5. 2. 3.]\n",
      " [4. 5. 6.]\n",
      " [7. 8. 9.]]\n",
      "\n",
      "Numpy Matrix A reconstructed\n",
      "[[5. 2. 3.]\n",
      " [4. 5. 6.]\n",
      " [7. 8. 9.]]\n"
     ]
    }
   ],
   "source": [
    "import svd_solver as svd\n",
    "import numpy as np\n",
    "\n",
    "A = np.array([[5, 2, 3],\n",
    "              [4, 5, 6],\n",
    "              [7, 8, 9],])\n",
    "\n",
    "U, S, Vt, cond_num, A_inv = svd.svd_solver(A)\n",
    "\n",
    "A_reconst = U @ S @ Vt\n",
    "\n",
    "npU, npS, npV = np.linalg.svd(A)\n",
    "\n",
    "npA_recon = npU @ np.diag(npS) @ npV\n",
    "\n",
    "# Print the matrices for comparison\n",
    "print(\"Custom U:\")\n",
    "print(U)\n",
    "\n",
    "print(\"\\nNumPy U:\")\n",
    "print(npU)\n",
    "\n",
    "# Compare V matrices\n",
    "print(\"\\nCustom Vt\")\n",
    "print(Vt)\n",
    "\n",
    "print(\"\\nNumPy Vt\")\n",
    "print(npV)\n",
    "\n",
    "# Compare Sigma matrices\n",
    "print(\"\\nCustom S (Sigma):\")\n",
    "print(S)\n",
    "\n",
    "print(\"\\nNumPy S (Sigma):\")\n",
    "print(npS)\n",
    "\n",
    "# Compare the reconstructed matrix A\n",
    "print(\"\\nCustom Reconstructed Matrix (U @ S @ Vt):\")\n",
    "print(A_reconst)\n",
    "\n",
    "print(\"\\nNumpy Matrix A reconstructed\")\n",
    "print(npA_recon)"
   ]
  },
  {
   "cell_type": "markdown",
   "metadata": {},
   "source": [
    "Clearly not every single value of every matrix lines up between my custom solver and Numpy's version, however, they both reconstruct the desired Matrix appropriately."
   ]
  },
  {
   "cell_type": "code",
   "execution_count": 8,
   "metadata": {},
   "outputs": [
    {
     "name": "stdout",
     "output_type": "stream",
     "text": [
      "Custom SVD solver condition number and inverse matrix:\n",
      "63.85722159418202\n",
      "[[ 0.25       -0.5         0.25      ]\n",
      " [-0.5        -2.          1.5       ]\n",
      " [ 0.25        2.16666667 -1.41666667]]\n",
      "Numpy condition number and inverse matrix:\n",
      "63.85722159418491\n",
      "[[ 0.25       -0.5         0.25      ]\n",
      " [-0.5        -2.          1.5       ]\n",
      " [ 0.25        2.16666667 -1.41666667]]\n"
     ]
    }
   ],
   "source": [
    "\n",
    "print(\"Custom SVD solver condition number and inverse matrix:\")\n",
    "print(cond_num)\n",
    "print(A_inv)\n",
    "\n",
    "\n",
    "print(\"Numpy condition number and inverse matrix:\")\n",
    "print(np.linalg.cond(A))\n",
    "print(np.linalg.inv(A))"
   ]
  },
  {
   "cell_type": "markdown",
   "metadata": {},
   "source": [
    "As we can see the condition numbers and inverse matrices are also pretty much the exact same. There is only a minor difference in the condition number due to floating point imprecision"
   ]
  }
 ],
 "metadata": {
  "kernelspec": {
   "display_name": "Python 3",
   "language": "python",
   "name": "python3"
  },
  "language_info": {
   "codemirror_mode": {
    "name": "ipython",
    "version": 3
   },
   "file_extension": ".py",
   "mimetype": "text/x-python",
   "name": "python",
   "nbconvert_exporter": "python",
   "pygments_lexer": "ipython3",
   "version": "3.11.1"
  },
  "orig_nbformat": 4
 },
 "nbformat": 4,
 "nbformat_minor": 2
}
